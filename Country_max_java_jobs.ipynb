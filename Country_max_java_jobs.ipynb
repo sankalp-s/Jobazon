{
 "cells": [
  {
   "cell_type": "code",
   "execution_count": 5,
   "metadata": {},
   "outputs": [
    {
     "name": "stdout",
     "output_type": "stream",
     "text": [
      "US 2009\n"
     ]
    }
   ],
   "source": [
    " #the country does Amazon need the most number of Java Developer !\n",
    "import csv\n",
    "\n",
    "path = 'C:\\\\Users\\\\Sankalp Arora\\\\Downloads\\\\amazon_jobs_dataset.csv'\n",
    "country_basic_qualification = []\n",
    "with open(path, 'r',encoding='utf-8') as csvfile:\n",
    "    reader = csv.DictReader(csvfile, skipinitialspace = True)\n",
    "\n",
    "    for row in reader:\n",
    "        country_basic_qualification.append([row['location'], row['BASIC QUALIFICATIONS']])\n",
    "\n",
    "\n",
    "def gtd(arr, language):\n",
    "    arrlist = []\n",
    "    for i in arr:\n",
    "        if language in i[1]:\n",
    "            arrlist.append(i[0])\n",
    "    return arrlist\n",
    "\n",
    "\n",
    "short_list = gtd(country_basic_qualification, 'Java')\n",
    "\n",
    "country_count = {}\n",
    "for i in short_list:\n",
    "    country = i.split(',')[0]\n",
    "    if country != '':\n",
    "        if country in country_count:\n",
    "            country_count[country] += 1\n",
    "        else:\n",
    "            country_count[country] = 1\n",
    "\n",
    "max = 0\n",
    "countru = 'new'\n",
    "for i in country_count :\n",
    "    if country_count[i] > max :\n",
    "        max = country_count[i]\n",
    "        countru = i\n",
    "\n",
    "print(countru,max)"
   ]
  }
 ],
 "metadata": {
  "kernelspec": {
   "display_name": "Python 3",
   "language": "python",
   "name": "python3"
  },
  "language_info": {
   "codemirror_mode": {
    "name": "ipython",
    "version": 3
   },
   "file_extension": ".py",
   "mimetype": "text/x-python",
   "name": "python",
   "nbconvert_exporter": "python",
   "pygments_lexer": "ipython3",
   "version": "3.7.3"
  }
 },
 "nbformat": 4,
 "nbformat_minor": 2
}
