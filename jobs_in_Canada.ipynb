{
 "cells": [
  {
   "cell_type": "code",
   "execution_count": 1,
   "metadata": {},
   "outputs": [
    {
     "name": "stdout",
     "output_type": "stream",
     "text": [
      "156\n"
     ]
    }
   ],
   "source": [
    "#The number of job openings in Canada?\n",
    "import csv\n",
    "\n",
    "job_loc = 'CA'\n",
    "count = 0\n",
    "with open('C:\\\\Users\\\\Sankalp Arora\\\\Downloads\\\\amazon_jobs_dataset.csv',encoding='utf-8') as csv_file:\n",
    "    job_reader = csv.DictReader(csv_file)\n",
    "    \n",
    "    for row in job_reader:\n",
    "        if row['location'].split(',')[0]==job_loc:\n",
    "            count+=1\n",
    "print(int(count))"
   ]
  }
 ],
 "metadata": {
  "kernelspec": {
   "display_name": "Python 3",
   "language": "python",
   "name": "python3"
  },
  "language_info": {
   "codemirror_mode": {
    "name": "ipython",
    "version": 3
   },
   "file_extension": ".py",
   "mimetype": "text/x-python",
   "name": "python",
   "nbconvert_exporter": "python",
   "pygments_lexer": "ipython3",
   "version": "3.7.3"
  }
 },
 "nbformat": 4,
 "nbformat_minor": 2
}
