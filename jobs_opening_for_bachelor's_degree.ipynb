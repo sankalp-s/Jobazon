{
 "cells": [
  {
   "cell_type": "code",
   "execution_count": 3,
   "metadata": {},
   "outputs": [
    {
     "name": "stdout",
     "output_type": "stream",
     "text": [
      "2961\n"
     ]
    }
   ],
   "source": [
    "#the number of job openings are present if applicant have Bachelor degree?\n",
    "\n",
    "import csv\n",
    "\n",
    "job_d1 = 'BA'\n",
    "job_d2 = 'BS'\n",
    "job_d3 = 'Bachelors'\n",
    "job_d4 = \"Bachelor's\"\n",
    "job_d5 = 'Bachelor'\n",
    "count = 0\n",
    "with open('C:\\\\Users\\\\Sankalp Arora\\\\Downloads\\\\amazon_jobs_dataset.csv',encoding='utf-8') as csv_file:\n",
    "    job_reader = csv.reader(csv_file)\n",
    "    next(job_reader)\n",
    "    \n",
    "    for row in job_reader:\n",
    "        if job_d1 in row[5] or job_d2 in row[5] or job_d3 in row[5] or job_d4 in row[5] or job_d5 in row[5]:\n",
    "            count+=1\n",
    "print(count)"
   ]
  }
 ],
 "metadata": {
  "kernelspec": {
   "display_name": "Python 3",
   "language": "python",
   "name": "python3"
  },
  "language_info": {
   "codemirror_mode": {
    "name": "ipython",
    "version": 3
   },
   "file_extension": ".py",
   "mimetype": "text/x-python",
   "name": "python",
   "nbconvert_exporter": "python",
   "pygments_lexer": "ipython3",
   "version": "3.7.3"
  }
 },
 "nbformat": 4,
 "nbformat_minor": 2
}
