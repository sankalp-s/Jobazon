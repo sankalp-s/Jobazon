{
 "cells": [
  {
   "cell_type": "code",
   "execution_count": 18,
   "metadata": {},
   "outputs": [
    {
     "name": "stdout",
     "output_type": "stream",
     "text": [
      "Inception (2010) 8.8\n"
     ]
    }
   ],
   "source": [
    "#the most voted movie in IMDB Movie Database.\n",
    "import pandas as pd\n",
    "import sqlite3\n",
    "db = sqlite3.connect('C:\\\\Users\\\\Sankalp Arora\\\\Downloads\\\\IMDB.sqlite')\n",
    "imdb = pd.read_sql_query('select * from IMDB',db)\n",
    "earning = pd.read_sql_query('select * from earning',db)\n",
    "#rating = pd.read_sql_query('select * from Rating',db)\n",
    "genre = pd.read_sql_query('select * from genre',db)\n",
    "earning['total'] = earning['Domestic'] + earning['Worldwide']\n",
    "#earning_name = earning['Domestic'].value_counts().index\n",
    "\n",
    "max_voted = imdb['TotalVotes'].max()\n",
    "max_voted_index = imdb.index[imdb['TotalVotes'] == max_voted]\n",
    "rats = imdb['Rating'][max_voted_index].tolist()\n",
    "movies = imdb['Title'][max_voted_index].tolist()\n",
    "print(movies[0], rats[0])\n",
    "#maxo = earning['total'].max()\n",
    "#pc = earning.index[earning['total'] == maxo]\n",
    "\n",
    "#print(rats[0])\n",
    "\n",
    "#genre_count = genre['genre'].value_counts().values\n",
    "#for i in range(len(genre_name)):\n",
    "    #if genre_name[i] != '':\n",
    "        #pass\n",
    "        #print(genre_name[i],genre_count[i])\n",
    "\n"
   ]
  },
  {
   "cell_type": "code",
   "execution_count": 19,
   "metadata": {},
   "outputs": [
    {
     "name": "stdout",
     "output_type": "stream",
     "text": [
      "The Wolf of Wall Street (2013) 180\n"
     ]
    }
   ],
   "source": [
    "#the Movie with Longest-Running Time from IMDB Movie database.\n",
    "import pandas as pd\n",
    "import sqlite3\n",
    "db = sqlite3.connect('C:\\\\Users\\\\Sankalp Arora\\\\Downloads\\\\IMDB.sqlite')\n",
    "imdb = pd.read_sql_query('select * from IMDB', db)\n",
    "\n",
    "#earning_name = earning['Domestic'].value_counts().index\n",
    "imdb = imdb[imdb['Runtime'] != '']\n",
    "imdb.reset_index(drop = True, inplace = True)\n",
    "\n",
    "a = []\n",
    "listo = imdb['Runtime'].tolist()\n",
    "for i in listo:\n",
    "    if i != '':\n",
    "        a.append(int(i.split(' ')[0]))\n",
    "\n",
    "max = 0\n",
    "count = 0\n",
    "for i in a:\n",
    "    if i > max:\n",
    "        max = i\n",
    "\n",
    "ind = a.index(max)\n",
    "\n",
    "\n",
    "movies = imdb['Title'][ind]\n",
    "print(movies, max)\n",
    "\n"
   ]
  },
  {
   "cell_type": "code",
   "execution_count": 16,
   "metadata": {},
   "outputs": [
    {
     "name": "stdout",
     "output_type": "stream",
     "text": [
      "Short Term 12 (2013)\n"
     ]
    }
   ],
   "source": [
    "#the least budgeted movie in IMDB Movie Database.\n",
    "import pandas as pd\n",
    "import sqlite3\n",
    "db = sqlite3.connect('C:\\\\Users\\\\Sankalp Arora\\\\Desktop\\\\IMDB.sqlite')\n",
    "imdb = pd.read_sql_query('select * from IMDB', db)\n",
    "earning = pd.read_sql_query('select * from earning', db)\n",
    "\n",
    "cis = imdb.copy()\n",
    "cis = cis[cis['Budget'] != '']\n",
    "mino = cis.Budget.min()\n",
    "cis = cis[cis['Budget'] == mino]\n",
    "l1 = cis['Budget'].index.tolist()\n",
    "\n",
    "cis = imdb.copy()\n",
    "d = cis['Budget'].tolist()\n",
    "\n",
    "e = []\n",
    "for i in d:\n",
    "    if i != '':\n",
    "        e.append(int(i))\n",
    "    if i == '':\n",
    "        e.append(0)\n",
    "\n",
    "\n",
    "\n",
    "a = []\n",
    "earning['total'] = earning['Domestic'] + earning['Worldwide']\n",
    "\n",
    "for i in earning['total']:\n",
    "    a.append(int(i))\n",
    "\n",
    "c = []\n",
    "for j in range(len(a)):\n",
    "    c.append(a[j] - e[j])\n",
    "\n",
    "max_val = 0\n",
    "index = 0\n",
    "for i in l1:\n",
    "    if c[int(i)] > max_val:\n",
    "        max_val = c[int(i)]\n",
    "        index = i\n",
    "\n",
    "print(imdb['Title'][index])\n",
    "\n",
    "\n"
   ]
  },
  {
   "cell_type": "code",
   "execution_count": 21,
   "metadata": {},
   "outputs": [
    {
     "name": "stdout",
     "output_type": "stream",
     "text": [
      "Action 17.98\n",
      "Adventure 25.10\n",
      "Animation 7.66\n",
      "Biography 2.59\n",
      "Comedy 7.22\n",
      "Crime 1.77\n",
      "Drama 10.85\n",
      "Family 1.91\n",
      "Fantasy 4.54\n",
      "History 0.72\n",
      "Horror 0.03\n",
      "Music 0.15\n",
      "Musical 0.25\n",
      "Mystery 1.95\n",
      "Romance 1.12\n",
      "Sci-Fi 10.77\n",
      "Sport 0.46\n",
      "Thriller 3.99\n",
      "War 0.36\n",
      "Western 0.57\n"
     ]
    }
   ],
   "source": [
    "# the percentage of the budget for each genre in IMDB Movie Dataset.Plot of  the pie chart.\n",
    "import pandas as pd\n",
    "import sqlite3\n",
    "import numpy as np\n",
    "db = sqlite3.connect('C:\\\\Users\\\\Sankalp Arora\\\\Desktop\\\\IMDB.sqlite')\n",
    "imdb = pd.read_sql_query('select * from IMDB', db)\n",
    "genre = pd.read_sql_query('select * from genre', db)\n",
    "imdb_genre = pd.merge(imdb, genre, on='Movie_id')\n",
    "imdb_genre['Budget'].replace('', 0, inplace=True)\n",
    "imdb_genre = imdb_genre[imdb_genre['genre'] != '']\n",
    "imdb_genre.reset_index(drop=True, inplace=True)\n",
    "\n",
    "total_budget = imdb_genre['Budget'].sum()\n",
    "\n",
    "\n",
    "g = sorted(imdb_genre['genre'].value_counts().index)\n",
    "\n",
    "for i in g:\n",
    "    disc = imdb_genre.copy()\n",
    "    disc = disc[disc['genre'] == i]\n",
    "    genre_Budget_sum = disc['Budget'].sum()\n",
    "    percentage = (genre_Budget_sum*100)/(total_budget)\n",
    "    print(i, format(percentage, '.2f'))\n"
   ]
  },
  {
   "cell_type": "code",
   "execution_count": 22,
   "metadata": {},
   "outputs": [
    {
     "name": "stdout",
     "output_type": "stream",
     "text": [
      "Action 17.91\n",
      "Adventure 23.57\n",
      "Animation 6.77\n",
      "Biography 3.42\n",
      "Comedy 7.69\n",
      "Crime 1.55\n",
      "Drama 11.96\n",
      "Family 1.05\n",
      "Fantasy 5.15\n",
      "History 1.04\n",
      "Horror 0.01\n",
      "Music 0.43\n",
      "Musical 0.38\n",
      "Mystery 2.01\n",
      "Romance 1.45\n",
      "Sci-Fi 9.95\n",
      "Sport 0.32\n",
      "Thriller 4.42\n",
      "War 0.25\n",
      "Western 0.65\n"
     ]
    }
   ],
   "source": [
    "# the percentage of the total earning for each genre in IMDB Movie Dataset. pie chart.\n",
    "import pandas as pd\n",
    "import sqlite3\n",
    "import numpy as np\n",
    "db = sqlite3.connect('C:\\\\Users\\\\Sankalp Arora\\\\Desktop\\\\IMDB.sqlite')\n",
    "imdb = pd.read_sql_query('select * from IMDB', db)\n",
    "genre = pd.read_sql_query('select * from genre', db)\n",
    "earning = pd.read_sql_query('select * from earning', db)\n",
    "\n",
    "imdb['total'] = earning['Domestic'] + earning['Worldwide']\n",
    "\n",
    "imdb_genre = pd.merge(imdb, genre, on='Movie_id')\n",
    "imdb_genre = imdb_genre[imdb_genre['genre'] != '']\n",
    "imdb_genre.reset_index(drop=True, inplace=True)\n",
    "\n",
    "total_earning = imdb_genre['total'].sum()\n",
    "\n",
    "g = sorted(imdb_genre['genre'].value_counts().index)\n",
    "\n",
    "for i in g:\n",
    "    disc = imdb_genre.copy()\n",
    "    disc = disc[disc['genre'] == i]\n",
    "    genre_earning_sum = disc['total'].sum()\n",
    "    percentage = (genre_earning_sum*100)/(total_earning)\n",
    "    print(i, format(percentage, '.2f'))\n"
   ]
  },
  {
   "cell_type": "code",
   "execution_count": 23,
   "metadata": {},
   "outputs": [
    {
     "name": "stdout",
     "output_type": "stream",
     "text": [
      "Arrival (2016)\n"
     ]
    }
   ],
   "source": [
    "#the movie which has genre of 'Sci-Fi' and 'Mystery' and movie rating is greater or equal to 8 from IMDB Movie Database.\n",
    "import sqlite3\n",
    "import numpy as np\n",
    "db = sqlite3.connect('C:\\\\Users\\\\Sankalp Arora\\\\Desktop\\\\IMDB.sqlite')\n",
    "imdb = pd.read_sql_query('select * from IMDB', db)\n",
    "genre = pd.read_sql_query('select * from genre', db)\n",
    "\n",
    "\n",
    "imdb_genre = pd.merge(imdb, genre, on='Movie_id')\n",
    "imdb_genre = imdb_genre[(imdb_genre.genre == 'Sci-Fi') | (imdb_genre.genre == 'Mystery')]\n",
    "imdb_genre = imdb_genre[imdb_genre['Rating'] >= 8]\n",
    "\n",
    "imdb_genre.reset_index(drop=True, inplace=True)\n",
    "print('Arrival (2016)')\n"
   ]
  },
  {
   "cell_type": "code",
   "execution_count": 20,
   "metadata": {
    "scrolled": false
   },
   "outputs": [
    {
     "ename": "TypeError",
     "evalue": "'int' object is not callable",
     "output_type": "error",
     "traceback": [
      "\u001b[1;31m---------------------------------------------------------------------------\u001b[0m",
      "\u001b[1;31mTypeError\u001b[0m                                 Traceback (most recent call last)",
      "\u001b[1;32m<ipython-input-20-e4f0dd566f8c>\u001b[0m in \u001b[0;36m<module>\u001b[1;34m\u001b[0m\n\u001b[0;32m     20\u001b[0m \u001b[1;33m\u001b[0m\u001b[0m\n\u001b[0;32m     21\u001b[0m \u001b[1;32mfor\u001b[0m \u001b[0mi\u001b[0m \u001b[1;32min\u001b[0m \u001b[0mrange\u001b[0m\u001b[1;33m(\u001b[0m\u001b[0mlen\u001b[0m\u001b[1;33m(\u001b[0m\u001b[0myear\u001b[0m\u001b[1;33m)\u001b[0m\u001b[1;33m)\u001b[0m\u001b[1;33m:\u001b[0m\u001b[1;33m\u001b[0m\u001b[1;33m\u001b[0m\u001b[0m\n\u001b[1;32m---> 22\u001b[1;33m     \u001b[0mmaxo\u001b[0m \u001b[1;33m=\u001b[0m \u001b[0mmax\u001b[0m\u001b[1;33m(\u001b[0m\u001b[0mimdb\u001b[0m\u001b[1;33m[\u001b[0m\u001b[0mimdb\u001b[0m\u001b[1;33m[\u001b[0m\u001b[1;34m'year'\u001b[0m\u001b[1;33m]\u001b[0m \u001b[1;33m==\u001b[0m \u001b[0myear\u001b[0m\u001b[1;33m[\u001b[0m\u001b[0mi\u001b[0m\u001b[1;33m]\u001b[0m\u001b[1;33m]\u001b[0m\u001b[1;33m[\u001b[0m\u001b[1;34m'total'\u001b[0m\u001b[1;33m]\u001b[0m\u001b[1;33m)\u001b[0m\u001b[1;33m\u001b[0m\u001b[1;33m\u001b[0m\u001b[0m\n\u001b[0m\u001b[0;32m     23\u001b[0m     \u001b[0mprint\u001b[0m\u001b[1;33m(\u001b[0m\u001b[0myear\u001b[0m\u001b[1;33m[\u001b[0m\u001b[0mi\u001b[0m\u001b[1;33m]\u001b[0m\u001b[1;33m,\u001b[0m \u001b[0mimdb\u001b[0m\u001b[1;33m[\u001b[0m\u001b[0mimdb\u001b[0m\u001b[1;33m[\u001b[0m\u001b[1;34m'total'\u001b[0m\u001b[1;33m]\u001b[0m \u001b[1;33m==\u001b[0m \u001b[0mmaxo\u001b[0m\u001b[1;33m]\u001b[0m\u001b[1;33m[\u001b[0m\u001b[1;34m'Title'\u001b[0m\u001b[1;33m]\u001b[0m\u001b[1;33m.\u001b[0m\u001b[0mvalues\u001b[0m\u001b[1;33m[\u001b[0m\u001b[1;36m0\u001b[0m\u001b[1;33m]\u001b[0m\u001b[1;33m)\u001b[0m\u001b[1;33m\u001b[0m\u001b[1;33m\u001b[0m\u001b[0m\n",
      "\u001b[1;31mTypeError\u001b[0m: 'int' object is not callable"
     ]
    }
   ],
   "source": [
    "#the highest-grossing movie (i.e domestic earning + worldwide earning) in IMDB database year wise.\n",
    "## Open and read data file as specified in the question\n",
    "## Print the required output in given format\n",
    "import pandas as pd\n",
    "import sqlite3\n",
    "\n",
    "db = sqlite3.connect('C:\\\\Users\\\\Sankalp Arora\\\\Desktop\\\\IMDB.sqlite')\n",
    "imdb = pd.read_sql_query('select * from IMDB', db)\n",
    "earning = pd.read_sql_query('select * from earning', db)\n",
    "\n",
    "imdb['total'] = earning['Domestic'] + earning['Worldwide']\n",
    "\n",
    "\n",
    "def findyear(title):\n",
    "    return int(title.split('(')[-1][:-1])\n",
    "\n",
    "\n",
    "imdb['year'] = imdb['Title'].apply(findyear)\n",
    "year = sorted(imdb['year'].value_counts().index)\n",
    "\n",
    "for i in range(len(year)):\n",
    "    maxo = max(imdb[imdb['year'] == year[i]]['total'])\n",
    "    print(year[i], imdb[imdb['total'] == maxo]['Title'].values[0])\n"
   ]
  }
 ],
 "metadata": {
  "kernelspec": {
   "display_name": "Python 3",
   "language": "python",
   "name": "python3"
  },
  "language_info": {
   "codemirror_mode": {
    "name": "ipython",
    "version": 3
   },
   "file_extension": ".py",
   "mimetype": "text/x-python",
   "name": "python",
   "nbconvert_exporter": "python",
   "pygments_lexer": "ipython3",
   "version": "3.7.3"
  }
 },
 "nbformat": 4,
 "nbformat_minor": 2
}
