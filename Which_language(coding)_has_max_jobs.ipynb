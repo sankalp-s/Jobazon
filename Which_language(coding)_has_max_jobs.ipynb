{
 "cells": [
  {
   "cell_type": "code",
   "execution_count": 4,
   "metadata": {},
   "outputs": [
    {
     "name": "stdout",
     "output_type": "stream",
     "text": [
      "Java 103\n"
     ]
    }
   ],
   "source": [
    "#Among Java, C++ and Python, which of the language has more job openings in India for Bachelor Degree Holder?\n",
    "import csv\n",
    "\n",
    "country = 'IN'\n",
    "lan1 = 'Java'\n",
    "lan2 = 'Python'\n",
    "lan3 = 'C++'\n",
    "job_d1 = 'BA'\n",
    "job_d2 = 'BS'\n",
    "job_d5 = 'Bachelor'\n",
    "count = 0\n",
    "dict = {}\n",
    "with open('C:\\\\Users\\\\Sankalp Arora\\\\Downloads\\\\amazon_jobs_dataset.csv', encoding='utf-8') as csv_file:\n",
    "    job_reader = csv.reader(csv_file)\n",
    "    next(job_reader)\n",
    "\n",
    "\n",
    "    def count(deep):\n",
    "        if deep in dict:\n",
    "            dict[deep] += 1\n",
    "        else:\n",
    "            dict[deep] = 1\n",
    "\n",
    "    for row in job_reader:\n",
    "        if row[2].split(',')[0] == 'IN':\n",
    "            if (lan1 in row[5]) and (job_d1 in row[5] or job_d2 in row[5]  or job_d5 in row[5]):\n",
    "                count(lan1)\n",
    "            if (lan2 in row[5]) and (job_d1 in row[5] or job_d2 in row[5]  or job_d5 in row[5]):\n",
    "                count(lan2)\n",
    "            if (lan3 in row[5]) and (job_d1 in row[5] or job_d2 in row[5]  or job_d5 in row[5]):\n",
    "                count(lan3)\n",
    "\n",
    "\n",
    "max = 0\n",
    "flan = 'new'\n",
    "for i in dict:\n",
    "    if dict[i] >= max:\n",
    "        max = dict[i]\n",
    "        flan = i\n",
    "print(flan, max)"
   ]
  }
 ],
 "metadata": {
  "kernelspec": {
   "display_name": "Python 3",
   "language": "python",
   "name": "python3"
  },
  "language_info": {
   "codemirror_mode": {
    "name": "ipython",
    "version": 3
   },
   "file_extension": ".py",
   "mimetype": "text/x-python",
   "name": "python",
   "nbconvert_exporter": "python",
   "pygments_lexer": "ipython3",
   "version": "3.7.3"
  }
 },
 "nbformat": 4,
 "nbformat_minor": 2
}
