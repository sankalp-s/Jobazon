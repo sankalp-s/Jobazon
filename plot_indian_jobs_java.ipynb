{
 "cells": [
  {
   "cell_type": "code",
   "execution_count": 8,
   "metadata": {},
   "outputs": [
    {
     "name": "stdout",
     "output_type": "stream",
     "text": [
      "2012 6\n",
      "2013 2\n",
      "2014 4\n",
      "2015 25\n",
      "2016 95\n",
      "2017 1093\n",
      "2018 1210\n"
     ]
    },
    {
     "data": {
      "text/plain": [
       "<Figure size 640x480 with 1 Axes>"
      ]
     },
     "metadata": {},
     "output_type": "display_data"
    }
   ],
   "source": [
    "#the scatter graph between year vs No. of jobs opening related to Java.\n",
    "import csv\n",
    "import matplotlib.pyplot as plt\n",
    "\n",
    "path = 'C:\\\\Users\\\\Sankalp Arora\\\\Downloads\\\\amazon_jobs_dataset.csv'\n",
    "country_basic_qualification = []\n",
    "with open(path, 'r',encoding='utf-8') as csvfile:\n",
    "    reader = csv.DictReader(csvfile, skipinitialspace = True)\n",
    "\n",
    "    for row in reader:\n",
    "        country_basic_qualification.append([row['Posting_date'], row['BASIC QUALIFICATIONS']])\n",
    "\n",
    "\n",
    "def gtd(arr, language1,language2):\n",
    "    arrlist = []\n",
    "    for i in arr:\n",
    "        if (language1 in i[1]) or (language2 in i[1]):\n",
    "            arrlist.append(i[0])\n",
    "    return arrlist\n",
    "\n",
    "\n",
    "short_list = gtd(country_basic_qualification, 'Java','java')\n",
    "\n",
    "#print(short_list)\n",
    "year_count = {}\n",
    "for i in short_list:\n",
    "    year = i.split(',')[-1].replace(' ','')\n",
    "    if year != '':\n",
    "        if year in year_count:\n",
    "             year_count[year] += 1\n",
    "        else:\n",
    "            year_count[year] = 1\n",
    "\n",
    "year = []\n",
    "jobs_count = []\n",
    "for i in year_count:\n",
    "    year.append(i.replace(' ',''))\n",
    "    jobs_count.append(year_count[i])\n",
    "\n",
    "for i in sorted(year_count):\n",
    "    print(i,year_count[i])\n",
    "plt.scatter(year,jobs_count)\n",
    "plt.show()\n"
   ]
  }
 ],
 "metadata": {
  "kernelspec": {
   "display_name": "Python 3",
   "language": "python",
   "name": "python3"
  },
  "language_info": {
   "codemirror_mode": {
    "name": "ipython",
    "version": 3
   },
   "file_extension": ".py",
   "mimetype": "text/x-python",
   "name": "python",
   "nbconvert_exporter": "python",
   "pygments_lexer": "ipython3",
   "version": "3.7.3"
  }
 },
 "nbformat": 4,
 "nbformat_minor": 2
}
