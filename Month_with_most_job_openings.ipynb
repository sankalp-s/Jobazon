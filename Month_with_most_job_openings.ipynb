{
 "cells": [
  {
   "cell_type": "code",
   "execution_count": 2,
   "metadata": {},
   "outputs": [
    {
     "name": "stdout",
     "output_type": "stream",
     "text": [
      "January 907\n"
     ]
    }
   ],
   "source": [
    "#the month having most job openings in Year 2018 ?\n",
    "import csv\n",
    "\n",
    "with open('C:\\\\Users\\\\Sankalp Arora\\\\Downloads\\\\amazon_jobs_dataset.csv',encoding='utf-8') as csv_file:\n",
    "    job_reader = csv.DictReader(csv_file)\n",
    "\n",
    "    month_jobs = {}\n",
    "    for row in job_reader :\n",
    "        month = row['Posting_date'].split(' ')[0]\n",
    "        year = row['Posting_date'].split(',')[1]\n",
    "        if year == \" 2018\":\n",
    "            if month in month_jobs:\n",
    "                month_jobs[month] += 1\n",
    "            else:\n",
    "                month_jobs[month] = 1\n",
    "max = 0\n",
    "fmonth = 'new'\n",
    "for i in month_jobs:\n",
    "    if month_jobs[i] >= max:\n",
    "        max = month_jobs[i]\n",
    "        fmonth = i\n",
    "print(fmonth,max)\n"
   ]
  }
 ],
 "metadata": {
  "kernelspec": {
   "display_name": "Python 3",
   "language": "python",
   "name": "python3"
  },
  "language_info": {
   "codemirror_mode": {
    "name": "ipython",
    "version": 3
   },
   "file_extension": ".py",
   "mimetype": "text/x-python",
   "name": "python",
   "nbconvert_exporter": "python",
   "pygments_lexer": "ipython3",
   "version": "3.7.3"
  }
 },
 "nbformat": 4,
 "nbformat_minor": 2
}
