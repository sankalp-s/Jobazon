{
 "cells": [
  {
   "cell_type": "code",
   "execution_count": 2,
   "metadata": {},
   "outputs": [
    {
     "name": "stdout",
     "output_type": "stream",
     "text": [
      "66 1856\n"
     ]
    }
   ],
   "source": [
    "import csv\n",
    "\n",
    "job_india = 'Bangalore'\n",
    "job_us = 'Seattle'\n",
    "lines = 0\n",
    "opening_Bangalore = 0\n",
    "opening_Seattle = 0\n",
    "with open('C:\\\\Users\\\\Sankalp Arora\\\\Downloads\\\\amazon_jobs_dataset.csv',encoding='utf-8') as csv_file:\n",
    "    job_reader = csv.reader(csv_file)\n",
    "    next(job_reader)\n",
    "    \n",
    "    for row in job_reader:\n",
    "        if job_india in row[2]:\n",
    "            opening_Bangalore+=1\n",
    "        if job_us in row[2]:\n",
    "            opening_Seattle+=1\n",
    "        lines+=1\n",
    "print(opening_Bangalore,opening_Seattle)\n",
    "            \n",
    "        \n"
   ]
  }
 ],
 "metadata": {
  "kernelspec": {
   "display_name": "Python 3",
   "language": "python",
   "name": "python3"
  },
  "language_info": {
   "codemirror_mode": {
    "name": "ipython",
    "version": 3
   },
   "file_extension": ".py",
   "mimetype": "text/x-python",
   "name": "python",
   "nbconvert_exporter": "python",
   "pygments_lexer": "ipython3",
   "version": "3.7.3"
  }
 },
 "nbformat": 4,
 "nbformat_minor": 2
}
